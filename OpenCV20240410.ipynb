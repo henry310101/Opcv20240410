{
 "cells": [
  {
   "cell_type": "code",
   "execution_count": 1,
   "id": "0ff64959",
   "metadata": {},
   "outputs": [],
   "source": [
    "image_path = \"C:\\\\Users\\\\STUST\\\\Desktop\\\\\""
   ]
  },
  {
   "cell_type": "code",
   "execution_count": 2,
   "id": "9f39fe31",
   "metadata": {},
   "outputs": [
    {
     "name": "stdout",
     "output_type": "stream",
     "text": [
      "PSNR_33 33.749841515631694\n",
      "PSNR_55 30.611623793057664\n",
      "PSNR_77 28.921283000760493\n"
     ]
    }
   ],
   "source": [
    "import cv2\n",
    "\n",
    "src = cv2.imread(image_path + \"123.jpg\")\n",
    "dst1 = cv2.blur(src, (3,3))\n",
    "dst2 = cv2.blur(src, (5,5))\n",
    "dst3 = cv2.blur(src, (7,7))\n",
    "\n",
    "cv2.imshow(\"src\",src)\n",
    "cv2.imshow(\"dst 3x3\",dst1)\n",
    "cv2.imshow(\"dst 5x5\",dst2)\n",
    "cv2.imshow(\"dst 7x7\",dst3)\n",
    "\n",
    "psnr_33 = cv2.PSNR(src, dst1)\n",
    "psnr_55 = cv2.PSNR(src, dst2)\n",
    "psnr_77 = cv2.PSNR(src, dst3)\n",
    "\n",
    "print(\"PSNR_33\",psnr_33)\n",
    "print(\"PSNR_55\",psnr_55)\n",
    "print(\"PSNR_77\",psnr_77)\n",
    "\n",
    "cv2.waitKey(0)\n",
    "cv2.destroyAllWindows()"
   ]
  },
  {
   "cell_type": "code",
   "execution_count": null,
   "id": "413f4d9b",
   "metadata": {},
   "outputs": [],
   "source": []
  }
 ],
 "metadata": {
  "kernelspec": {
   "display_name": "Python 3 (ipykernel)",
   "language": "python",
   "name": "python3"
  },
  "language_info": {
   "codemirror_mode": {
    "name": "ipython",
    "version": 3
   },
   "file_extension": ".py",
   "mimetype": "text/x-python",
   "name": "python",
   "nbconvert_exporter": "python",
   "pygments_lexer": "ipython3",
   "version": "3.11.5"
  }
 },
 "nbformat": 4,
 "nbformat_minor": 5
}
