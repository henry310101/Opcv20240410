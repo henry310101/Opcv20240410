{
 "cells": [
  {
   "cell_type": "code",
   "execution_count": 6,
   "id": "729eb5b3-f4a8-46f9-a97a-23f978157782",
   "metadata": {},
   "outputs": [],
   "source": [
    "# ch12_4.py\n",
    "import cv2\n",
    "import numpy as np\n",
    "image_path = \"C:\\\\Users\\\\henry\\\\Desktop\\\\ch12\\\\\"\n",
    "src = cv2.imread(image_path + \"whilster.jpg\")\n",
    "kernel = np.ones((3,3),np.uint8)        # 建立3x3內核\n",
    "dst1 = cv2.erode(src, kernel)           # 腐蝕操作\n",
    "kerne2 = np.ones((5,5),np.uint8)        # 建立5x5內核\n",
    "dst2 = cv2.erode(src, kerne2)           # 腐蝕操作\n",
    "\n",
    "cv2.imshow(\"src\",src)\n",
    "cv2.imshow(\"after erosion 3 x 3\",dst1)\n",
    "cv2.imshow(\"after erosion 5 x 5\",dst2)\n",
    "cv2.waitKey(0)\n",
    "cv2.destroyAllWindows()\n"
   ]
  },
  {
   "cell_type": "code",
   "execution_count": 7,
   "id": "3b288e46-a6ad-4385-99f0-636114ee2e1d",
   "metadata": {},
   "outputs": [
    {
     "name": "stdout",
     "output_type": "stream",
     "text": [
      "src = \n",
      " [[0 0 0 0 0 0 0]\n",
      " [0 0 0 0 0 0 0]\n",
      " [0 0 1 1 1 0 0]\n",
      " [0 0 1 1 1 0 0]\n",
      " [0 0 1 1 1 0 0]\n",
      " [0 0 0 0 0 0 0]\n",
      " [0 0 0 0 0 0 0]]\n",
      "kernel = \n",
      " [[1 1 1]\n",
      " [1 1 1]\n",
      " [1 1 1]]\n",
      "Dilation = \n",
      " [[0 0 0 0 0 0 0]\n",
      " [0 1 1 1 1 1 0]\n",
      " [0 1 1 1 1 1 0]\n",
      " [0 1 1 1 1 1 0]\n",
      " [0 1 1 1 1 1 0]\n",
      " [0 1 1 1 1 1 0]\n",
      " [0 0 0 0 0 0 0]]\n"
     ]
    }
   ],
   "source": [
    "src = np.zeros((7,7),np.uint8) \n",
    "src[2:5,2:5] = 1                    # 建立前景影像\n",
    "kernel = np.ones((3,3),np.uint8)    # 建立內核\n",
    "dst = cv2.dilate(src, kernel)       # 膨脹操作\n",
    "print(f\"src = \\n {src}\")\n",
    "print(f\"kernel = \\n {kernel}\")\n",
    "print(f\"Dilation = \\n {dst}\")"
   ]
  },
  {
   "cell_type": "code",
   "execution_count": 8,
   "id": "18acce9f-1154-4c34-999f-b5d21bf14be4",
   "metadata": {},
   "outputs": [
    {
     "name": "stdout",
     "output_type": "stream",
     "text": [
      "src = \n",
      " [[0 0 0 0 0 0 0]\n",
      " [0 1 1 1 1 1 0]\n",
      " [0 1 1 1 1 1 0]\n",
      " [0 1 1 1 1 1 0]\n",
      " [0 1 1 1 1 1 0]\n",
      " [0 1 1 1 1 1 0]\n",
      " [0 0 0 0 0 0 0]]\n",
      "kernel = \n",
      " [[1 1 1]\n",
      " [1 1 1]\n",
      " [1 1 1]]\n",
      "Erosion = \n",
      " [[0 0 0 0 0 0 0]\n",
      " [0 0 0 0 0 0 0]\n",
      " [0 0 1 1 1 0 0]\n",
      " [0 0 1 1 1 0 0]\n",
      " [0 0 1 1 1 0 0]\n",
      " [0 0 0 0 0 0 0]\n",
      " [0 0 0 0 0 0 0]]\n"
     ]
    }
   ],
   "source": [
    "src = np.zeros((7,7),np.uint8) \n",
    "src[1:6,1:6] = 1                    # 建立前景影像\n",
    "kernel = np.ones((3,3),np.uint8)    # 建立內核\n",
    "dst = cv2.erode(src, kernel)        # 腐蝕操作\n",
    "print(f\"src = \\n {src}\")\n",
    "print(f\"kernel = \\n {kernel}\")\n",
    "print(f\"Erosion = \\n {dst}\")"
   ]
  },
  {
   "cell_type": "code",
   "execution_count": 11,
   "id": "f15abe72-6a90-4ee9-9e8b-11fdbcbf3073",
   "metadata": {},
   "outputs": [],
   "source": [
    "src = cv2.imread(image_path + \"night.jpg\")\n",
    "kernel = np.ones((9,9),np.uint8)                    # 建立9x9內核\n",
    "dst = cv2.morphologyEx(src,cv2.MORPH_OPEN,kernel)   # 開運算\n",
    "\n",
    "cv2.imshow(\"src\",src)\n",
    "cv2.imshow(\"after Opening 9 x 9\",dst)\n",
    "\n",
    "cv2.waitKey(0)\n",
    "cv2.destroyAllWindows()"
   ]
  },
  {
   "cell_type": "code",
   "execution_count": 12,
   "id": "75f450e1-887c-4b7b-a305-be61e338d008",
   "metadata": {},
   "outputs": [],
   "source": [
    "src = cv2.imread(image_path +\"bw.jpg\")\n",
    "kernel = np.ones((5, 5),np.uint8)       # 建立5x5內核\n",
    "dst1 = cv2.erode(src, kernel)           # 腐蝕操作\n",
    "kerne2 = np.ones((11, 11),np.uint8)     # 建立11x11內核\n",
    "dst2 = cv2.erode(src, kerne2)           # 腐蝕操作\n",
    "\n",
    "cv2.imshow(\"src\",src)\n",
    "cv2.imshow(\"after erosion 5 x 5\",dst1)\n",
    "cv2.imshow(\"after erosion 11 x 11\",dst2)\n",
    "cv2.waitKey(0)\n",
    "cv2.destroyAllWindows()"
   ]
  },
  {
   "cell_type": "code",
   "execution_count": 13,
   "id": "4ee14d1b-11b9-47bf-8942-83c7abc0ab83",
   "metadata": {},
   "outputs": [],
   "source": [
    "src = cv2.imread(image_path + \"night.jpg\")\n",
    "kernel = np.ones((9,9),np.uint8)                # 建立9x9內核\n",
    "mid = cv2.dilate(src, kernel)                   # dilation\n",
    "dst = cv2.erode(mid, kernel)                    # erosion\n",
    "cv2.imshow(\"src\",src)\n",
    "cv2.imshow(\"after dilation 9 x 9\",mid)\n",
    "cv2.imshow(\"after erosion 9 x 9\",dst)\n",
    "\n",
    "cv2.waitKey(0)\n",
    "cv2.destroyAllWindows()"
   ]
  },
  {
   "cell_type": "code",
   "execution_count": 15,
   "id": "73be67a2-f834-49a5-b574-16ab7c201352",
   "metadata": {},
   "outputs": [],
   "source": [
    "src = cv2.imread(image_path + \"a.jpg\")\n",
    "kernel = np.ones((3, 3),np.uint8)       # 建立3x3內核\n",
    "dst1 = cv2.dilate(src, kernel)          # 膨脹操作\n",
    "kerne2 = np.ones((5, 5),np.uint8)       # 建立5x5內核\n",
    "dst2 = cv2.dilate(src, kerne2)          # 膨脹操作\n",
    "\n",
    "cv2.imshow(\"src\",src)\n",
    "cv2.imshow(\"after dilation 3 x 3\",dst1)\n",
    "cv2.imshow(\"after dilation 5 x 5\",dst2)\n",
    "cv2.waitKey(0)\n",
    "cv2.destroyAllWindows()\n"
   ]
  },
  {
   "cell_type": "code",
   "execution_count": 16,
   "id": "30b81dfa-1967-4e5b-9a5c-49dd4d0eedd5",
   "metadata": {},
   "outputs": [],
   "source": [
    "src = cv2.imread(image_path +\"btree.jpg\")\n",
    "kernel = np.ones((3,3),np.uint8)                    # 建立3x3內核\n",
    "dst = cv2.morphologyEx(src,cv2.MORPH_TOPHAT,kernel) # tophat\n",
    "\n",
    "cv2.imshow(\"src\",src)\n",
    "cv2.imshow(\"after tophat\",dst)\n",
    "\n",
    "cv2.waitKey(0)\n",
    "cv2.destroyAllWindows()"
   ]
  },
  {
   "cell_type": "code",
   "execution_count": 17,
   "id": "75ad69b4-d687-4a70-b987-3db11ea01284",
   "metadata": {},
   "outputs": [],
   "source": [
    "src = cv2.imread(image_path+ \"snowman.jpg\")\n",
    "kernel = np.ones((11,11),np.uint8)                      # 建立11x11內核\n",
    "dst = cv2.morphologyEx(src,cv2.MORPH_BLACKHAT,kernel)   # blackhat\n",
    "\n",
    "cv2.imshow(\"src\",src)\n",
    "cv2.imshow(\"after blackhat\",dst)\n",
    "\n",
    "cv2.waitKey(0)\n",
    "cv2.destroyAllWindows()"
   ]
  },
  {
   "cell_type": "code",
   "execution_count": 18,
   "id": "465ca8b5-1bcb-4027-8ce0-cb7d3aa784ba",
   "metadata": {},
   "outputs": [],
   "source": [
    "src = cv2.imread(image_path + \"snowman1.jpg\")\n",
    "kernel = np.ones((11,11),np.uint8)                  # 建立11x11內核\n",
    "dst = cv2.morphologyEx(src,cv2.MORPH_CLOSE,kernel)  # 閉運算\n",
    "\n",
    "cv2.imshow(\"src\",src)\n",
    "cv2.imshow(\"after Closing 11 x 11\",dst)\n",
    "\n",
    "cv2.waitKey(0)\n",
    "cv2.destroyAllWindows()"
   ]
  },
  {
   "cell_type": "code",
   "execution_count": null,
   "id": "312394f6-7f4b-4249-9c76-bd6d4d3ffd8b",
   "metadata": {},
   "outputs": [],
   "source": []
  }
 ],
 "metadata": {
  "kernelspec": {
   "display_name": "Python 3 (ipykernel)",
   "language": "python",
   "name": "python3"
  },
  "language_info": {
   "codemirror_mode": {
    "name": "ipython",
    "version": 3
   },
   "file_extension": ".py",
   "mimetype": "text/x-python",
   "name": "python",
   "nbconvert_exporter": "python",
   "pygments_lexer": "ipython3",
   "version": "3.11.5"
  }
 },
 "nbformat": 4,
 "nbformat_minor": 5
}
