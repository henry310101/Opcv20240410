{
 "cells": [
  {
   "cell_type": "code",
   "execution_count": null,
   "metadata": {},
   "outputs": [
    {
     "name": "stdout",
     "output_type": "stream",
     "text": [
      "dst1_PSNR： 40.54124018915366\n",
      "dst2_PSNR： 33.749841515631694\n",
      "Gauss1_PSNR： 42.729247649978404\n",
      "Gauss2_PSNR： 35.70851700194232\n",
      "bilateral1_PSNR： 32.59362648955686\n",
      "bilateral2_PSNR： 32.531427021586005\n"
     ]
    }
   ],
   "source": [
    "import cv2\n",
    "\n",
    "image_path = \"C:\\\\Users\\\\STUST\\\\Desktop\\\\\"\n",
    "\n",
    "src = cv2.imread(image_path + \"hung.jpg\")\n",
    "src2 = cv2.imread(image_path + \"antar.jpg\")\n",
    "\n",
    "dst1 = cv2.blur(src, (3, 3))            # 均值濾波器 - 3x3 濾波核\n",
    "dst2 = cv2.blur(src2, (3, 3))            # 均值濾波器 - 7x7 濾波核\n",
    "\n",
    "Gauss1 = cv2.GaussianBlur(src,(3,3),0,0)  # 高斯濾波器 - 3x3 的濾波核\n",
    "Gauss2 = cv2.GaussianBlur(src2,(3,3),0,0)  # 高斯濾波器 - 7x7 的濾波核\n",
    "\n",
    "bilateral1 = cv2.bilateralFilter(src,15,100,100) #雙邊濾波\n",
    "bilateral2 = cv2.bilateralFilter(src2,15,100,100)  #雙邊濾波\n",
    "\n",
    "dst1_PSNR=cv2.PSNR(src, dst1) \n",
    "dst2_PSNR=cv2.PSNR(src2, dst2)\n",
    "\n",
    "Gauss1_PSNR=cv2.PSNR(src, Gauss1)\n",
    "Gauss2_PSNR=cv2.PSNR(src2, Gauss2)\n",
    "\n",
    "bilateral1_PSNR=cv2.PSNR(src, bilateral1)\n",
    "bilateral2_PSNR=cv2.PSNR(src2, bilateral2)\n",
    "\n",
    "\n",
    "cv2.imshow(\"dst 3 x 3\",dst1)\n",
    "cv2.imshow(\"dst 7 x 7\",dst2)\n",
    "\n",
    "cv2.imshow(\"Gauss dst 3 x 3\",Gauss1)\n",
    "cv2.imshow(\"Gauss dst 7 x 7\",Gauss2)\n",
    "\n",
    "cv2.imshow(\"bilateral1\",bilateral1)\n",
    "cv2.imshow(\"bilateral2\",bilateral2)\n",
    "\n",
    "print(\"dst1_PSNR：\",dst1_PSNR)\n",
    "print(\"dst2_PSNR：\",dst2_PSNR)\n",
    "print(\"Gauss1_PSNR：\",Gauss1_PSNR)\n",
    "print(\"Gauss2_PSNR：\",Gauss2_PSNR)\n",
    "print(\"bilateral1_PSNR：\",bilateral1_PSNR)\n",
    "print(\"bilateral2_PSNR：\",bilateral2_PSNR)\n",
    "\n",
    "cv2.waitKey(0)\n",
    "cv2.destroyAllWindows()"
   ]
  },
  {
   "cell_type": "code",
   "execution_count": null,
   "metadata": {},
   "outputs": [],
   "source": []
  }
 ],
 "metadata": {
  "kernelspec": {
   "display_name": "Python 3 (ipykernel)",
   "language": "python",
   "name": "python3"
  },
  "language_info": {
   "codemirror_mode": {
    "name": "ipython",
    "version": 3
   },
   "file_extension": ".py",
   "mimetype": "text/x-python",
   "name": "python",
   "nbconvert_exporter": "python",
   "pygments_lexer": "ipython3",
   "version": "3.11.5"
  }
 },
 "nbformat": 4,
 "nbformat_minor": 2
}
