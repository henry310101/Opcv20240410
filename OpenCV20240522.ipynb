{
 "cells": [
  {
   "cell_type": "code",
   "execution_count": 3,
   "id": "c3e038a8",
   "metadata": {},
   "outputs": [
    {
     "name": "stdout",
     "output_type": "stream",
     "text": [
      "元組 rect = (66, 39, 178, 100)\n",
      "左上角 x = 66, 左上角 y = 39\n",
      "矩形寬度     = 178\n",
      "矩形高度     = 100\n"
     ]
    }
   ],
   "source": [
    "# ch16_1.py\n",
    "import cv2\n",
    "path = \"C:\\\\Users\\\\STUST\\\\Desktop\\\\ch16\\\\\"\n",
    "src = cv2.imread(path + \"explode1.jpg\")\n",
    "cv2.imshow(\"src\",src)\n",
    "src_gray = cv2.cvtColor(src,cv2.COLOR_BGR2GRAY)         # 影像轉成灰階\n",
    "# 二值化處理影像\n",
    "ret, dst_binary = cv2.threshold(src_gray,127,255,cv2.THRESH_BINARY)\n",
    "# 找尋影像內的輪廓\n",
    "contours, hierarchy = cv2.findContours(dst_binary,\n",
    "                      cv2.RETR_LIST,\n",
    "                      cv2.CHAIN_APPROX_SIMPLE)  \n",
    "\n",
    "# 輸出矩形格式使用元組(tuple)\n",
    "rect = cv2.boundingRect(contours[0])\n",
    "print(f\"元組 rect = {rect}\")\n",
    "# 輸出矩形格式, 列出所有細項\n",
    "x, y, w, h = cv2.boundingRect(contours[0])\n",
    "print(f\"左上角 x = {x}, 左上角 y = {y}\")\n",
    "print(f\"矩形寬度     = {w}\")\n",
    "print(f\"矩形高度     = {h}\")\n",
    "\n",
    "cv2.waitKey(0)\n",
    "cv2.destroyAllWindows()"
   ]
  },
  {
   "cell_type": "code",
   "execution_count": 4,
   "id": "97ede5fd",
   "metadata": {},
   "outputs": [],
   "source": [
    "# ch16_2.py\n",
    "import cv2\n",
    "\n",
    "src = cv2.imread(path + \"explode1.jpg\")\n",
    "cv2.imshow(\"src\",src)\n",
    "src_gray = cv2.cvtColor(src,cv2.COLOR_BGR2GRAY)     # 影像轉成灰階\n",
    "# 二值化處理影像\n",
    "ret, dst_binary = cv2.threshold(src_gray,127,255,cv2.THRESH_BINARY)\n",
    "# 找尋影像內的輪廓\n",
    "contours, hierarchy = cv2.findContours(dst_binary,\n",
    "                      cv2.RETR_LIST,\n",
    "                      cv2.CHAIN_APPROX_SIMPLE)  \n",
    "\n",
    "x, y, w, h = cv2.boundingRect(contours[0])          # 建構矩形\n",
    "dst = cv2.rectangle(src,(x, y),(x+w, y+h),(0,255,255),2)\n",
    "cv2.imshow(\"dst\",dst)\n",
    "\n",
    "cv2.waitKey(0)\n",
    "cv2.destroyAllWindows()"
   ]
  },
  {
   "cell_type": "code",
   "execution_count": 5,
   "id": "c3c0d5c2",
   "metadata": {},
   "outputs": [],
   "source": [
    "# ch16_3.py\n",
    "import cv2\n",
    "\n",
    "src = cv2.imread(path + \"explode2.jpg\")\n",
    "cv2.imshow(\"src\",src)\n",
    "src_gray = cv2.cvtColor(src,cv2.COLOR_BGR2GRAY)     # 影像轉成灰階\n",
    "# 二值化處理影像\n",
    "ret, dst_binary = cv2.threshold(src_gray,127,255,cv2.THRESH_BINARY)\n",
    "# 找尋影像內的輪廓\n",
    "contours, hierarchy = cv2.findContours(dst_binary,\n",
    "                      cv2.RETR_LIST,\n",
    "                      cv2.CHAIN_APPROX_SIMPLE)  \n",
    "\n",
    "x, y, w, h = cv2.boundingRect(contours[0])          # 建構矩形\n",
    "dst = cv2.rectangle(src,(x, y),(x+w, y+h),(0,255,255),2)\n",
    "cv2.imshow(\"dst\",dst)\n",
    "\n",
    "cv2.waitKey(0)\n",
    "cv2.destroyAllWindows()"
   ]
  },
  {
   "cell_type": "code",
   "execution_count": 7,
   "id": "0d820531",
   "metadata": {},
   "outputs": [
    {
     "name": "stdout",
     "output_type": "stream",
     "text": [
      "轉換前的矩形頂角 = \n",
      " ((154.83755493164062, 88.25508880615234), (91.39300537109375, 174.26780700683594), 56.449337005615234)\n",
      "轉換後的矩形頂角 = \n",
      " [[ 56  98]\n",
      " [202   2]\n",
      " [252  78]\n",
      " [107 174]]\n"
     ]
    },
    {
     "name": "stderr",
     "output_type": "stream",
     "text": [
      "C:\\Users\\STUST\\AppData\\Local\\Temp\\ipykernel_6652\\4014316829.py:18: DeprecationWarning: `np.int0` is a deprecated alias for `np.intp`.  (Deprecated NumPy 1.24)\n",
      "  points = np.int0(points)                                # 轉為整數\n"
     ]
    }
   ],
   "source": [
    "# ch16_4.py\n",
    "import cv2\n",
    "import numpy as np\n",
    "\n",
    "src = cv2.imread(path + \"explode2.jpg\")\n",
    "cv2.imshow(\"src\",src)\n",
    "src_gray = cv2.cvtColor(src,cv2.COLOR_BGR2GRAY)         # 影像轉成灰階\n",
    "# 二值化處理影像\n",
    "ret, dst_binary = cv2.threshold(src_gray,127,255,cv2.THRESH_BINARY)\n",
    "# 找尋影像內的輪廓\n",
    "contours, hierarchy = cv2.findContours(dst_binary,\n",
    "                      cv2.RETR_LIST,\n",
    "                      cv2.CHAIN_APPROX_SIMPLE)  \n",
    "\n",
    "box = cv2.minAreaRect(contours[0])                      # 建構最小矩形\n",
    "print(f\"轉換前的矩形頂角 = \\n {box}\")\n",
    "points = cv2.boxPoints(box)                             # 獲取頂點座標\n",
    "points = np.int0(points)                                # 轉為整數\n",
    "print(f\"轉換後的矩形頂角 = \\n {points}\")\n",
    "dst = cv2.drawContours(src,[points],0,(0,255,0),2)      # 繪製輪廓\n",
    "cv2.imshow(\"dst\",dst)\n",
    "\n",
    "cv2.waitKey(0)\n",
    "cv2.destroyAllWindows()"
   ]
  },
  {
   "cell_type": "code",
   "execution_count": 8,
   "id": "9b9b8e57",
   "metadata": {},
   "outputs": [],
   "source": [
    "# ch16_5.py\n",
    "import cv2\n",
    "import numpy as np\n",
    "\n",
    "src = cv2.imread(path+ \"explode3.jpg\")\n",
    "cv2.imshow(\"src\",src)\n",
    "src_gray = cv2.cvtColor(src,cv2.COLOR_BGR2GRAY)     # 影像轉成灰階\n",
    "# 二值化處理影像\n",
    "ret, dst_binary = cv2.threshold(src_gray,127,255,cv2.THRESH_BINARY)\n",
    "# 找尋影像內的輪廓\n",
    "contours, hierarchy = cv2.findContours(dst_binary,\n",
    "                      cv2.RETR_LIST,\n",
    "                      cv2.CHAIN_APPROX_SIMPLE)  \n",
    "# 取得圓中心座標和圓半徑\n",
    "(x, y), radius = cv2.minEnclosingCircle(contours[0])    \n",
    "center = (int(x), int(y))                           # 圓中心座標取整數\n",
    "radius = int(radius)                                # 圓半徑取整數\n",
    "dst = cv2.circle(src,center,radius,(0,255,255),2)   # 繪圓\n",
    "cv2.imshow(\"dst\",dst)\n",
    "\n",
    "cv2.waitKey(0)\n",
    "cv2.destroyAllWindows()"
   ]
  },
  {
   "cell_type": "code",
   "execution_count": 9,
   "id": "e673ef37",
   "metadata": {},
   "outputs": [],
   "source": [
    "# ch16_6.py\n",
    "import cv2\n",
    "import numpy as np\n",
    "\n",
    "src = cv2.imread(path+ \"explode1.jpg\")\n",
    "cv2.imshow(\"src\",src)\n",
    "src_gray = cv2.cvtColor(src,cv2.COLOR_BGR2GRAY)     # 影像轉成灰階\n",
    "# 二值化處理影像\n",
    "ret, dst_binary = cv2.threshold(src_gray,127,255,cv2.THRESH_BINARY)\n",
    "# 找尋影像內的輪廓\n",
    "contours, hierarchy = cv2.findContours(dst_binary,\n",
    "                      cv2.RETR_LIST,\n",
    "                      cv2.CHAIN_APPROX_SIMPLE)  \n",
    "# 取得圓中心座標和圓半徑\n",
    "(x, y), radius = cv2.minEnclosingCircle(contours[0])    \n",
    "center = (int(x), int(y))                           # 圓中心座標取整數\n",
    "radius = int(radius)                                # 圓半徑取整數\n",
    "dst = cv2.circle(src,center,radius,(0,255,255),2)   # 繪圓\n",
    "cv2.imshow(\"dst\",dst)\n",
    "\n",
    "cv2.waitKey(0)\n",
    "cv2.destroyAllWindows()"
   ]
  },
  {
   "cell_type": "code",
   "execution_count": 10,
   "id": "a760ea51",
   "metadata": {},
   "outputs": [
    {
     "name": "stdout",
     "output_type": "stream",
     "text": [
      "資料類型   = <class 'tuple'>\n",
      "橢圓中心   = (142.57275390625, 87.38111114501953)\n",
      "長短軸直徑 = (82.66155242919922, 206.0122528076172)\n",
      "旋轉角度   = 71.17364501953125\n"
     ]
    }
   ],
   "source": [
    "# ch16_7.py\n",
    "import cv2\n",
    "import numpy as np\n",
    "\n",
    "src = cv2.imread(path+\"cloud.jpg\")\n",
    "cv2.imshow(\"src\",src)\n",
    "src_gray = cv2.cvtColor(src,cv2.COLOR_BGR2GRAY)     # 影像轉成灰階\n",
    "# 二值化處理影像\n",
    "ret, dst_binary = cv2.threshold(src_gray,127,255,cv2.THRESH_BINARY)\n",
    "# 找尋影像內的輪廓\n",
    "contours, hierarchy = cv2.findContours(dst_binary,\n",
    "                      cv2.RETR_LIST,\n",
    "                      cv2.CHAIN_APPROX_SIMPLE)\n",
    "# 取得圓中心座標和圓半徑\n",
    "ellipse = cv2.fitEllipse(contours[0])               # 取得最優擬合橢圓數據\n",
    "print(f\"資料類型   = {type(ellipse)}\")\n",
    "print(f\"橢圓中心   = {ellipse[0]}\")\n",
    "print(f\"長短軸直徑 = {ellipse[1]}\")\n",
    "print(f\"旋轉角度   = {ellipse[2]}\")\n",
    "dst = cv2.ellipse(src,ellipse,(0,255,0),2)          # 繪橢圓\n",
    "cv2.imshow(\"dst\",dst)\n",
    "\n",
    "cv2.waitKey(0)\n",
    "cv2.destroyAllWindows()"
   ]
  },
  {
   "cell_type": "code",
   "execution_count": 11,
   "id": "d4de12ce",
   "metadata": {},
   "outputs": [
    {
     "name": "stdout",
     "output_type": "stream",
     "text": [
      "三角形面積   = 15638.060546875\n",
      "三角形頂點座標資料類型 = <class 'numpy.ndarray'>\n",
      "三角頂點座標 = \n",
      "[[[361.3784   115.48649 ]]\n",
      "\n",
      " [[ 63.809917  35.371902]]\n",
      "\n",
      " [[176.73334  170.88    ]]]\n"
     ]
    },
    {
     "name": "stderr",
     "output_type": "stream",
     "text": [
      "C:\\Users\\STUST\\AppData\\Local\\Temp\\ipykernel_6652\\1169811160.py:19: DeprecationWarning: `np.int0` is a deprecated alias for `np.intp`.  (Deprecated NumPy 1.24)\n",
      "  triangle = np.int0(triangle)                        # 轉整數\n"
     ]
    }
   ],
   "source": [
    "# ch16_8.py\n",
    "import cv2\n",
    "import numpy as np\n",
    "\n",
    "src = cv2.imread(path+\"heart.jpg\")\n",
    "cv2.imshow(\"src\",src)\n",
    "src_gray = cv2.cvtColor(src,cv2.COLOR_BGR2GRAY)     # 影像轉成灰階\n",
    "# 二值化處理影像\n",
    "ret, dst_binary = cv2.threshold(src_gray,127,255,cv2.THRESH_BINARY)\n",
    "# 找尋影像內的輪廓\n",
    "contours, hierarchy = cv2.findContours(dst_binary,\n",
    "                      cv2.RETR_LIST,\n",
    "                      cv2.CHAIN_APPROX_SIMPLE)\n",
    "# 取得三角形面積與頂點座標\n",
    "area, triangle = cv2.minEnclosingTriangle(contours[0])  \n",
    "print(f\"三角形面積   = {area}\")\n",
    "print(f\"三角形頂點座標資料類型 = {type(triangle)}\")\n",
    "print(f\"三角頂點座標 = \\n{triangle}\")\n",
    "triangle = np.int0(triangle)                        # 轉整數\n",
    "dst = cv2.line(src,tuple(triangle[0][0]),tuple(triangle[1][0]),(0,255,0),2)\n",
    "dst = cv2.line(src,tuple(triangle[1][0]),tuple(triangle[2][0]),(0,255,0),2)\n",
    "dst = cv2.line(src,tuple(triangle[0][0]),tuple(triangle[2][0]),(0,255,0),2)               \n",
    "cv2.imshow(\"dst\",dst)\n",
    "\n",
    "cv2.waitKey(0)\n",
    "cv2.destroyAllWindows()"
   ]
  },
  {
   "cell_type": "code",
   "execution_count": 12,
   "id": "9ec0377e",
   "metadata": {},
   "outputs": [],
   "source": [
    "# ch16_9.py\n",
    "import cv2\n",
    "import numpy as np\n",
    "\n",
    "src = cv2.imread(path+\"multiple.jpg\")\n",
    "cv2.imshow(\"src\",src)\n",
    "src_gray = cv2.cvtColor(src,cv2.COLOR_BGR2GRAY)     # 影像轉成灰階\n",
    "# 二值化處理影像\n",
    "ret, dst_binary = cv2.threshold(src_gray,127,255,cv2.THRESH_BINARY)\n",
    "# 找尋影像內的輪廓\n",
    "contours, hierarchy = cv2.findContours(dst_binary,\n",
    "                      cv2.RETR_LIST,\n",
    "                      cv2.CHAIN_APPROX_SIMPLE)\n",
    "# 近似多邊形包圍\n",
    "n = len(contours)                                   # 輪廓數量\n",
    "src1 = src.copy()                                   # 複製src影像\n",
    "src2 = src.copy()                                   # 複製src影像\n",
    "for i in range(n):\n",
    "    approx = cv2.approxPolyDP(contours[i], 3, True)         # epsilon=3\n",
    "    dst1 = cv2.polylines(src1,[approx],True,(0,255,0),2)    # dst1\n",
    "    approx = cv2.approxPolyDP(contours[i], 15, True)        # epsilon=15\n",
    "    dst2 = cv2.polylines(src2,[approx],True,(0,255,0),2)    # dst2\n",
    "cv2.imshow(\"dst1 - epsilon = 3\",dst1)\n",
    "cv2.imshow(\"dst2 - epsilon = 15\",dst2)\n",
    "\n",
    "cv2.waitKey(0)\n",
    "cv2.destroyAllWindows()"
   ]
  },
  {
   "cell_type": "code",
   "execution_count": 14,
   "id": "175aaa68",
   "metadata": {},
   "outputs": [
    {
     "name": "stdout",
     "output_type": "stream",
     "text": [
      "共線正規化向量 = [0.9303164], [-0.36675796]\n",
      "直線經過的點   = [165.38216], [96.899315]\n"
     ]
    }
   ],
   "source": [
    "# ch16_10.py\n",
    "import cv2\n",
    "import numpy as np\n",
    "\n",
    "src = cv2.imread(path+\"unregular.jpg\")\n",
    "cv2.imshow(\"src\",src)\n",
    "src_gray = cv2.cvtColor(src,cv2.COLOR_BGR2GRAY)     # 影像轉成灰階\n",
    "# 二值化處理影像\n",
    "ret, dst_binary = cv2.threshold(src_gray,127,255,cv2.THRESH_BINARY)\n",
    "# 找尋影像內的輪廓\n",
    "contours, hierarchy = cv2.findContours(dst_binary,\n",
    "                      cv2.RETR_LIST,\n",
    "                      cv2.CHAIN_APPROX_SIMPLE)\n",
    "# 擬合一條線\n",
    "rows, cols = src.shape[:2]                          # 輪廓大小\n",
    "vx,vy,x,y = cv2.fitLine(contours[0],cv2.DIST_L2,0,0.01,0.01)\n",
    "print(f\"共線正規化向量 = {vx}, {vy}\")\n",
    "print(f\"直線經過的點   = {x}, {y}\")\n",
    "lefty = int((-x * vy / vx) + y)                     # 左邊點的 y 座標\n",
    "righty = int(((cols - x) * vy / vx) + y)            # 右邊點的 y 座標\n",
    "dst = cv2.line(src,(0,lefty),(cols-1,righty),(0,255,0),2)   # 左到右繪線             \n",
    "cv2.imshow(\"dst\",dst)           \n",
    "\n",
    "cv2.waitKey(0)\n",
    "cv2.destroyAllWindows()"
   ]
  },
  {
   "cell_type": "code",
   "execution_count": null,
   "id": "ef960a36",
   "metadata": {},
   "outputs": [],
   "source": []
  }
 ],
 "metadata": {
  "kernelspec": {
   "display_name": "Python 3 (ipykernel)",
   "language": "python",
   "name": "python3"
  },
  "language_info": {
   "codemirror_mode": {
    "name": "ipython",
    "version": 3
   },
   "file_extension": ".py",
   "mimetype": "text/x-python",
   "name": "python",
   "nbconvert_exporter": "python",
   "pygments_lexer": "ipython3",
   "version": "3.11.5"
  }
 },
 "nbformat": 4,
 "nbformat_minor": 5
}
