{
 "cells": [
  {
   "cell_type": "code",
   "execution_count": 30,
   "id": "c3e038a8",
   "metadata": {},
   "outputs": [
    {
     "name": "stdout",
     "output_type": "stream",
     "text": [
      "元組 rect = (66, 39, 178, 100)\n",
      "左上角 x = 66, 左上角 y = 39\n",
      "矩形寬度     = 178\n",
      "矩形高度     = 100\n"
     ]
    }
   ],
   "source": [
    "# ch16_1.py\n",
    "import cv2\n",
    "path = \"C:\\\\Users\\\\STUST\\\\Desktop\\\\ch16\\\\\"\n",
    "src = cv2.imread(path + \"explode1.jpg\")\n",
    "cv2.imshow(\"src\",src)\n",
    "src_gray = cv2.cvtColor(src,cv2.COLOR_BGR2GRAY)         # 影像轉成灰階\n",
    "# 二值化處理影像\n",
    "ret, dst_binary = cv2.threshold(src_gray,127,255,cv2.THRESH_BINARY)\n",
    "# 找尋影像內的輪廓\n",
    "contours, hierarchy = cv2.findContours(dst_binary,\n",
    "                      cv2.RETR_LIST,\n",
    "                      cv2.CHAIN_APPROX_SIMPLE)  \n",
    "\n",
    "# 輸出矩形格式使用元組(tuple)\n",
    "rect = cv2.boundingRect(contours[0])\n",
    "print(f\"元組 rect = {rect}\")\n",
    "# 輸出矩形格式, 列出所有細項\n",
    "x, y, w, h = cv2.boundingRect(contours[0])\n",
    "print(f\"左上角 x = {x}, 左上角 y = {y}\")\n",
    "print(f\"矩形寬度     = {w}\")\n",
    "print(f\"矩形高度     = {h}\")\n",
    "\n",
    "cv2.waitKey(0)\n",
    "cv2.destroyAllWindows()"
   ]
  },
  {
   "cell_type": "code",
   "execution_count": 50,
   "id": "97ede5fd",
   "metadata": {},
   "outputs": [],
   "source": [
    "# ch16_2.py\n",
    "import cv2\n",
    "\n",
    "src = cv2.imread(path + \"explode1.jpg\")\n",
    "cv2.imshow(\"src\",src)\n",
    "src_gray = cv2.cvtColor(src,cv2.COLOR_BGR2GRAY)     # 影像轉成灰階\n",
    "# 二值化處理影像\n",
    "ret, dst_binary = cv2.threshold(src_gray,127,255,cv2.THRESH_BINARY)\n",
    "# 找尋影像內的輪廓\n",
    "contours, hierarchy = cv2.findContours(dst_binary,\n",
    "                      cv2.RETR_LIST,\n",
    "                      cv2.CHAIN_APPROX_SIMPLE)  \n",
    "\n",
    "x, y, w, h = cv2.boundingRect(contours[0])          # 建構矩形\n",
    "dst = cv2.rectangle(src,(x, y),(x+w, y+h),(0,255,255),2)\n",
    "cv2.imshow(\"dst\",dst)\n",
    "\n",
    "cv2.waitKey(0)\n",
    "cv2.destroyAllWindows()"
   ]
  },
  {
   "cell_type": "code",
   "execution_count": 52,
   "id": "c3c0d5c2",
   "metadata": {},
   "outputs": [],
   "source": [
    "# ch16_3.py\n",
    "import cv2\n",
    "\n",
    "src = cv2.imread(path + \"01.jpg\")\n",
    "cv2.imshow(\"src\",src)\n",
    "src_gray = cv2.cvtColor(src,cv2.COLOR_BGR2GRAY)     # 影像轉成灰階\n",
    "# 二值化處理影像\n",
    "ret, dst_binary = cv2.threshold(src_gray,127,255,cv2.THRESH_BINARY)\n",
    "# 找尋影像內的輪廓\n",
    "contours, hierarchy = cv2.findContours(dst_binary,\n",
    "                      cv2.RETR_LIST,\n",
    "                      cv2.CHAIN_APPROX_SIMPLE)  \n",
    "\n",
    "x, y, w, h = cv2.boundingRect(contours[0])          # 建構矩形\n",
    "dst = cv2.rectangle(src,(x, y),(x+w, y+h),(0,255,255),2)\n",
    "cv2.imshow(\"dst\",dst)\n",
    "\n",
    "cv2.waitKey(0)\n",
    "cv2.destroyAllWindows()"
   ]
  },
  {
   "cell_type": "code",
   "execution_count": 33,
   "id": "0d820531",
   "metadata": {},
   "outputs": [
    {
     "name": "stdout",
     "output_type": "stream",
     "text": [
      "轉換前的矩形頂角 = \n",
      " ((154.83755493164062, 88.25508880615234), (91.39300537109375, 174.26780700683594), 56.449337005615234)\n",
      "轉換後的矩形頂角 = \n",
      " [[ 56  98]\n",
      " [202   2]\n",
      " [252  78]\n",
      " [107 174]]\n"
     ]
    },
    {
     "name": "stderr",
     "output_type": "stream",
     "text": [
      "C:\\Users\\STUST\\AppData\\Local\\Temp\\ipykernel_9532\\483382815.py:18: DeprecationWarning: `np.int0` is a deprecated alias for `np.intp`.  (Deprecated NumPy 1.24)\n",
      "  points = np.int0(points)                                # 轉為整數\n"
     ]
    }
   ],
   "source": [
    "# ch16_4.py\n",
    "import cv2\n",
    "import numpy as np\n",
    "\n",
    "src = cv2.imread(path + \"explode2.jpg\")\n",
    "cv2.imshow(\"src\",src)\n",
    "src_gray = cv2.cvtColor(src,cv2.COLOR_BGR2GRAY)         # 影像轉成灰階\n",
    "# 二值化處理影像\n",
    "ret, dst_binary = cv2.threshold(src_gray,127,255,cv2.THRESH_BINARY)\n",
    "# 找尋影像內的輪廓\n",
    "contours, hierarchy = cv2.findContours(dst_binary,\n",
    "                      cv2.RETR_LIST,\n",
    "                      cv2.CHAIN_APPROX_SIMPLE)  \n",
    "\n",
    "box = cv2.minAreaRect(contours[0])                      # 建構最小矩形\n",
    "print(f\"轉換前的矩形頂角 = \\n {box}\")\n",
    "points = cv2.boxPoints(box)                             # 獲取頂點座標\n",
    "points = np.int0(points)                                # 轉為整數\n",
    "print(f\"轉換後的矩形頂角 = \\n {points}\")\n",
    "dst = cv2.drawContours(src,[points],0,(0,255,0),2)      # 繪製輪廓\n",
    "cv2.imshow(\"dst\",dst)\n",
    "\n",
    "cv2.waitKey(0)\n",
    "cv2.destroyAllWindows()"
   ]
  },
  {
   "cell_type": "code",
   "execution_count": 53,
   "id": "9b9b8e57",
   "metadata": {},
   "outputs": [],
   "source": [
    "# ch16_5.py\n",
    "import cv2\n",
    "import numpy as np\n",
    "\n",
    "src = cv2.imread(path+ \"explode3.jpg\")\n",
    "cv2.imshow(\"src\",src)\n",
    "src_gray = cv2.cvtColor(src,cv2.COLOR_BGR2GRAY)     # 影像轉成灰階\n",
    "# 二值化處理影像\n",
    "ret, dst_binary = cv2.threshold(src_gray,127,255,cv2.THRESH_BINARY)\n",
    "# 找尋影像內的輪廓\n",
    "contours, hierarchy = cv2.findContours(dst_binary,\n",
    "                      cv2.RETR_LIST,\n",
    "                      cv2.CHAIN_APPROX_SIMPLE)  \n",
    "# 取得圓中心座標和圓半徑\n",
    "(x, y), radius = cv2.minEnclosingCircle(contours[0])    \n",
    "center = (int(x), int(y))                           # 圓中心座標取整數\n",
    "radius = int(radius)                                # 圓半徑取整數\n",
    "dst = cv2.circle(src,center,radius,(0,255,255),2)   # 繪圓\n",
    "cv2.imshow(\"dst\",dst)\n",
    "\n",
    "cv2.waitKey(0)\n",
    "cv2.destroyAllWindows()"
   ]
  },
  {
   "cell_type": "code",
   "execution_count": 54,
   "id": "e673ef37",
   "metadata": {},
   "outputs": [],
   "source": [
    "# ch16_6.py\n",
    "import cv2\n",
    "import numpy as np\n",
    "\n",
    "src = cv2.imread(path+ \"01.jpg\")\n",
    "cv2.imshow(\"src\",src)\n",
    "src_gray = cv2.cvtColor(src,cv2.COLOR_BGR2GRAY)     # 影像轉成灰階\n",
    "# 二值化處理影像\n",
    "ret, dst_binary = cv2.threshold(src_gray,127,255,cv2.THRESH_BINARY)\n",
    "# 找尋影像內的輪廓\n",
    "contours, hierarchy = cv2.findContours(dst_binary,\n",
    "                      cv2.RETR_LIST,\n",
    "                      cv2.CHAIN_APPROX_SIMPLE)  \n",
    "# 取得圓中心座標和圓半徑\n",
    "(x, y), radius = cv2.minEnclosingCircle(contours[0])    \n",
    "center = (int(x), int(y))                           # 圓中心座標取整數\n",
    "radius = int(radius)                                # 圓半徑取整數\n",
    "dst = cv2.circle(src,center,radius,(0,255,255),2)   # 繪圓\n",
    "cv2.imshow(\"dst\",dst)\n",
    "\n",
    "cv2.waitKey(0)\n",
    "cv2.destroyAllWindows()"
   ]
  },
  {
   "cell_type": "code",
   "execution_count": 36,
   "id": "a760ea51",
   "metadata": {},
   "outputs": [
    {
     "name": "stdout",
     "output_type": "stream",
     "text": [
      "資料類型   = <class 'tuple'>\n",
      "橢圓中心   = (142.57275390625, 87.38111114501953)\n",
      "長短軸直徑 = (82.66155242919922, 206.0122528076172)\n",
      "旋轉角度   = 71.17364501953125\n"
     ]
    }
   ],
   "source": [
    "# ch16_7.py\n",
    "import cv2\n",
    "import numpy as np\n",
    "\n",
    "src = cv2.imread(path+\"cloud.jpg\")\n",
    "cv2.imshow(\"src\",src)\n",
    "src_gray = cv2.cvtColor(src,cv2.COLOR_BGR2GRAY)     # 影像轉成灰階\n",
    "# 二值化處理影像\n",
    "ret, dst_binary = cv2.threshold(src_gray,127,255,cv2.THRESH_BINARY)\n",
    "# 找尋影像內的輪廓\n",
    "contours, hierarchy = cv2.findContours(dst_binary,\n",
    "                      cv2.RETR_LIST,\n",
    "                      cv2.CHAIN_APPROX_SIMPLE)\n",
    "# 取得圓中心座標和圓半徑\n",
    "ellipse = cv2.fitEllipse(contours[0])               # 取得最優擬合橢圓數據\n",
    "print(f\"資料類型   = {type(ellipse)}\")\n",
    "print(f\"橢圓中心   = {ellipse[0]}\")\n",
    "print(f\"長短軸直徑 = {ellipse[1]}\")\n",
    "print(f\"旋轉角度   = {ellipse[2]}\")\n",
    "dst = cv2.ellipse(src,ellipse,(0,255,0),2)          # 繪橢圓\n",
    "cv2.imshow(\"dst\",dst)\n",
    "\n",
    "cv2.waitKey(0)\n",
    "cv2.destroyAllWindows()"
   ]
  },
  {
   "cell_type": "code",
   "execution_count": 37,
   "id": "d4de12ce",
   "metadata": {},
   "outputs": [
    {
     "name": "stdout",
     "output_type": "stream",
     "text": [
      "三角形面積   = 15638.060546875\n",
      "三角形頂點座標資料類型 = <class 'numpy.ndarray'>\n",
      "三角頂點座標 = \n",
      "[[[361.3784   115.48649 ]]\n",
      "\n",
      " [[ 63.809917  35.371902]]\n",
      "\n",
      " [[176.73334  170.88    ]]]\n"
     ]
    },
    {
     "name": "stderr",
     "output_type": "stream",
     "text": [
      "C:\\Users\\STUST\\AppData\\Local\\Temp\\ipykernel_9532\\2745988511.py:19: DeprecationWarning: `np.int0` is a deprecated alias for `np.intp`.  (Deprecated NumPy 1.24)\n",
      "  triangle = np.int0(triangle)                        # 轉整數\n"
     ]
    }
   ],
   "source": [
    "# ch16_8.py\n",
    "import cv2\n",
    "import numpy as np\n",
    "\n",
    "src = cv2.imread(path+\"heart.jpg\")\n",
    "cv2.imshow(\"src\",src)\n",
    "src_gray = cv2.cvtColor(src,cv2.COLOR_BGR2GRAY)     # 影像轉成灰階\n",
    "# 二值化處理影像\n",
    "ret, dst_binary = cv2.threshold(src_gray,127,255,cv2.THRESH_BINARY)\n",
    "# 找尋影像內的輪廓\n",
    "contours, hierarchy = cv2.findContours(dst_binary,\n",
    "                      cv2.RETR_LIST,\n",
    "                      cv2.CHAIN_APPROX_SIMPLE)\n",
    "# 取得三角形面積與頂點座標\n",
    "area, triangle = cv2.minEnclosingTriangle(contours[0])  \n",
    "print(f\"三角形面積   = {area}\")\n",
    "print(f\"三角形頂點座標資料類型 = {type(triangle)}\")\n",
    "print(f\"三角頂點座標 = \\n{triangle}\")\n",
    "triangle = np.int0(triangle)                        # 轉整數\n",
    "dst = cv2.line(src,tuple(triangle[0][0]),tuple(triangle[1][0]),(0,255,0),2)\n",
    "dst = cv2.line(src,tuple(triangle[1][0]),tuple(triangle[2][0]),(0,255,0),2)\n",
    "dst = cv2.line(src,tuple(triangle[0][0]),tuple(triangle[2][0]),(0,255,0),2)               \n",
    "cv2.imshow(\"dst\",dst)\n",
    "\n",
    "cv2.waitKey(0)\n",
    "cv2.destroyAllWindows()"
   ]
  },
  {
   "cell_type": "code",
   "execution_count": 44,
   "id": "9ec0377e",
   "metadata": {},
   "outputs": [],
   "source": [
    "# ch16_9.py\n",
    "import cv2\n",
    "import numpy as np\n",
    "\n",
    "src = cv2.imread(path+\"03.jpg\")\n",
    "cv2.imshow(\"src\",src)\n",
    "src_gray = cv2.cvtColor(src,cv2.COLOR_BGR2GRAY)     # 影像轉成灰階\n",
    "\n",
    "\n",
    "# 二值化處理影像\n",
    "ret, dst_binary = cv2.threshold(src_gray,127,255,cv2.THRESH_BINARY)\n",
    "# 找尋影像內的輪廓\n",
    "contours, hierarchy = cv2.findContours(dst_binary,\n",
    "                      cv2.RETR_LIST,\n",
    "                      cv2.CHAIN_APPROX_SIMPLE)\n",
    "# 近似多邊形包圍\n",
    "n = len(contours)                                   # 輪廓數量\n",
    "src1 = src.copy()                                   # 複製src影像\n",
    "src2 = src.copy()                                   # 複製src影像\n",
    "for i in range(n):\n",
    "    approx = cv2.approxPolyDP(contours[i], 3, True)         # epsilon=3\n",
    "    dst1 = cv2.polylines(src1,[approx],True,(0,255,0),2)    # dst1\n",
    "    approx = cv2.approxPolyDP(contours[i], 15, True)        # epsilon=15\n",
    "    dst2 = cv2.polylines(src2,[approx],True,(0,255,0),2)    # dst2\n",
    "cv2.imshow(\"dst1 - epsilon = 3\",dst1)\n",
    "cv2.imshow(\"dst2 - epsilon = 15\",dst2)\n",
    "cv2.imshow(\"src_gray\",src_gray)\n",
    "\n",
    "cv2.waitKey(0)\n",
    "cv2.destroyAllWindows()"
   ]
  },
  {
   "cell_type": "code",
   "execution_count": 10,
   "id": "175aaa68",
   "metadata": {},
   "outputs": [
    {
     "name": "stdout",
     "output_type": "stream",
     "text": [
      "共線正規化向量 = [0.9303164], [-0.36675796]\n",
      "直線經過的點   = [165.38216], [96.899315]\n"
     ]
    }
   ],
   "source": [
    "# ch16_10.py\n",
    "import cv2\n",
    "import numpy as np\n",
    "\n",
    "src = cv2.imread(path+\"unregular.jpg\")\n",
    "cv2.imshow(\"src\",src)\n",
    "src_gray = cv2.cvtColor(src,cv2.COLOR_BGR2GRAY)     # 影像轉成灰階\n",
    "\n",
    "# 二值化處理影像\n",
    "ret, dst_binary = cv2.threshold(src_gray,127,255,cv2.THRESH_BINARY)\n",
    "\n",
    "# 找尋影像內的輪廓\n",
    "contours, hierarchy = cv2.findContours(dst_binary,\n",
    "                      cv2.RETR_LIST,\n",
    "                      cv2.CHAIN_APPROX_SIMPLE)\n",
    "# 擬合一條線\n",
    "rows, cols = src.shape[:2]                          # 輪廓大小\n",
    "vx,vy,x,y = cv2.fitLine(contours[0],cv2.DIST_L2,0,0.01,0.01)\n",
    "print(f\"共線正規化向量 = {vx}, {vy}\")\n",
    "print(f\"直線經過的點   = {x}, {y}\")\n",
    "lefty = int((-x * vy / vx) + y)                     # 左邊點的 y 座標\n",
    "righty = int(((cols - x) * vy / vx) + y)            # 右邊點的 y 座標\n",
    "dst = cv2.line(src,(0,lefty),(cols-1,righty),(0,255,0),2)   # 左到右繪線             \n",
    "cv2.imshow(\"dst\",dst)           \n",
    "\n",
    "cv2.waitKey(0)\n",
    "cv2.destroyAllWindows()"
   ]
  },
  {
   "cell_type": "code",
   "execution_count": 11,
   "id": "ef960a36",
   "metadata": {
    "scrolled": true
   },
   "outputs": [],
   "source": [
    "# ch16_11.py\n",
    "import cv2\n",
    "\n",
    "src = cv2.imread(path+\"heart1.jpg\")\n",
    "cv2.imshow(\"src\",src)\n",
    "src_gray = cv2.cvtColor(src,cv2.COLOR_BGR2GRAY)     # 影像轉成灰階\n",
    "# 二值化處理影像\n",
    "ret, dst_binary = cv2.threshold(src_gray,127,255,cv2.THRESH_BINARY)\n",
    "# 找尋影像內的輪廓\n",
    "contours, hierarchy = cv2.findContours(dst_binary,\n",
    "                      cv2.RETR_LIST,\n",
    "                      cv2.CHAIN_APPROX_SIMPLE)\n",
    "# 凸包\n",
    "hull = cv2.convexHull(contours[0])                  # 獲得凸包頂點座標       \n",
    "dst = cv2.polylines(src, [hull], True, (0,255,0),2) # 將凸包連線\n",
    "cv2.imshow(\"dst\",dst)           \n",
    "\n",
    "cv2.waitKey(0)\n",
    "cv2.destroyAllWindows()\n"
   ]
  },
  {
   "cell_type": "code",
   "execution_count": 13,
   "id": "1eef5373",
   "metadata": {},
   "outputs": [
    {
     "name": "stdout",
     "output_type": "stream",
     "text": [
      "凸包面積 = 53848.0\n"
     ]
    }
   ],
   "source": [
    "# ch16_12_1.py\n",
    "import cv2\n",
    "\n",
    "src = cv2.imread(path+\"hand1.jpg\")\n",
    "cv2.imshow(\"src\",src)\n",
    "src_gray = cv2.cvtColor(src,cv2.COLOR_BGR2GRAY)     # 影像轉成灰階\n",
    "# 二值化處理影像\n",
    "ret, dst_binary = cv2.threshold(src_gray,127,255,cv2.THRESH_BINARY)\n",
    "# 找尋影像內的輪廓\n",
    "contours, hierarchy = cv2.findContours(dst_binary,\n",
    "                      cv2.RETR_LIST,\n",
    "                      cv2.CHAIN_APPROX_SIMPLE)\n",
    "# 凸包\n",
    "hull = cv2.convexHull(contours[0])                  # 獲得凸包頂點座標       \n",
    "dst = cv2.polylines(src, [hull], True, (0,255,0),2) # 將凸包連線\n",
    "cv2.imshow(\"dst\",dst)\n",
    "convex_area = cv2.contourArea(hull)                 # 凸包面積\n",
    "print(f\"凸包面積 = {convex_area}\")\n",
    "\n",
    "cv2.waitKey(0)\n",
    "cv2.destroyAllWindows()"
   ]
  },
  {
   "cell_type": "code",
   "execution_count": 15,
   "id": "8b81af82",
   "metadata": {},
   "outputs": [],
   "source": [
    "# ch16_12.py\n",
    "import cv2\n",
    "\n",
    "src = cv2.imread(path+\"hand1.jpg\")\n",
    "cv2.imshow(\"src\",src)\n",
    "src_gray = cv2.cvtColor(src,cv2.COLOR_BGR2GRAY)     # 影像轉成灰階\n",
    "# 二值化處理影像\n",
    "ret, dst_binary = cv2.threshold(src_gray,127,255,cv2.THRESH_BINARY)\n",
    "# 找尋影像內的輪廓\n",
    "contours, hierarchy = cv2.findContours(dst_binary,\n",
    "                      cv2.RETR_LIST,\n",
    "                      cv2.CHAIN_APPROX_SIMPLE)\n",
    "# 凸包\n",
    "hull = cv2.convexHull(contours[0])                  # 獲得凸包頂點座標       \n",
    "dst = cv2.polylines(src, [hull], True, (0,255,0),2) # 將凸包連線\n",
    "cv2.imshow(\"dst\",dst)           \n",
    "\n",
    "cv2.waitKey(0)\n",
    "cv2.destroyAllWindows()\n"
   ]
  },
  {
   "cell_type": "code",
   "execution_count": 46,
   "id": "b66a8cf1",
   "metadata": {},
   "outputs": [],
   "source": [
    "# ch16_13.py\n",
    "src = cv2.imread(path+\"01.jpg\")\n",
    "cv2.imshow(\"src\",src)\n",
    "src_gray = cv2.cvtColor(src,cv2.COLOR_BGR2GRAY)     # 影像轉成灰階\n",
    "# 二值化處理影像\n",
    "ret, dst_binary = cv2.threshold(src_gray,127,255,cv2.THRESH_BINARY)\n",
    "# 找尋影像內的輪廓\n",
    "contours, hierarchy = cv2.findContours(dst_binary,\n",
    "                      cv2.RETR_LIST,\n",
    "                      cv2.CHAIN_APPROX_SIMPLE)\n",
    "# 凸包\n",
    "n = len(contours)                                   # 輪廓數量\n",
    "for i in range(n):\n",
    "    hull = cv2.convexHull(contours[i])              # 獲得凸包頂點座標       \n",
    "    dst = cv2.polylines(src, [hull], True, (0,255,0),2) # 將凸包連線\n",
    "cv2.imshow(\"dst\",dst)           \n",
    "\n",
    "cv2.waitKey(0)\n",
    "cv2.destroyAllWindows()"
   ]
  },
  {
   "cell_type": "code",
   "execution_count": 17,
   "id": "ad5097d8",
   "metadata": {},
   "outputs": [
    {
     "name": "stdout",
     "output_type": "stream",
     "text": [
      "缺陷數量 = 5\n"
     ]
    }
   ],
   "source": [
    "# ch16_14.py\n",
    "import cv2\n",
    "\n",
    "src = cv2.imread(path+\"star.jpg\")\n",
    "cv2.imshow(\"src\",src)\n",
    "src_gray = cv2.cvtColor(src,cv2.COLOR_BGR2GRAY)     # 影像轉成灰階\n",
    "# 二值化處理影像\n",
    "ret, dst_binary = cv2.threshold(src_gray,127,255,cv2.THRESH_BINARY)\n",
    "# 找尋影像內的輪廓\n",
    "contours, hierarchy = cv2.findContours(dst_binary,\n",
    "                      cv2.RETR_LIST,\n",
    "                      cv2.CHAIN_APPROX_SIMPLE)\n",
    "# 凸包 -> 凸包缺陷\n",
    "contour = contours[0]                               # 輪廓\n",
    "hull = cv2.convexHull(contour,returnPoints = False) # 獲得凸包       \n",
    "defects = cv2.convexityDefects(contour,hull)        # 獲得凸包缺陷\n",
    "n = defects.shape[0]                                # 缺陷數量\n",
    "print(f\"缺陷數量 = {n}\")\n",
    "for i in range(n):\n",
    "# s是startPoint, e是endPoint, f是farPoint, d是depth\n",
    "    s, e, f, d = defects[i,0]\n",
    "    start = tuple(contour[s][0])                    # 取得startPoint座標\n",
    "    end = tuple(contour[e][0])                      # 取得endPoint座標\n",
    "    far = tuple(contour[f][0])                      # 取得farPoint座標\n",
    "    dst = cv2.line(src,start,end,[0,255,0],2)       # 凸包連線\n",
    "    dst = cv2.circle(src,far,3,[0,0,255],-1)        # 繪製farPoint\n",
    "cv2.imshow(\"dst\",dst)           \n",
    "\n",
    "cv2.waitKey(0)\n",
    "cv2.destroyAllWindows()"
   ]
  },
  {
   "cell_type": "code",
   "execution_count": 29,
   "id": "dab2c089",
   "metadata": {},
   "outputs": [
    {
     "name": "stdout",
     "output_type": "stream",
     "text": [
      "凸包是凸形       = True\n",
      "近似多邊形是凸形 = False\n"
     ]
    }
   ],
   "source": [
    "# ch16_15.py\n",
    "import cv2\n",
    "\n",
    "src = cv2.imread(path+\"heart1.jpg\")\n",
    "cv2.imshow(\"src\",src)\n",
    "src_gray = cv2.cvtColor(src,cv2.COLOR_BGR2GRAY)     # 影像轉成灰階\n",
    "# 二值化處理影像\n",
    "ret, dst_binary = cv2.threshold(src_gray,127,255,cv2.THRESH_BINARY)\n",
    "# 找尋影像內的輪廓\n",
    "contours, hierarchy = cv2.findContours(dst_binary,\n",
    "                      cv2.RETR_LIST,\n",
    "                      cv2.CHAIN_APPROX_SIMPLE)\n",
    "# 凸包\n",
    "src1 = src.copy()                                   # 複製src影像\n",
    "hull = cv2.convexHull(contours[0])                  # 獲得凸包頂點座標       \n",
    "dst1 = cv2.polylines(src1, [hull], True, (0,255,0),2) # 將凸包連線\n",
    "cv2.imshow(\"dst1\",dst1)\n",
    "isConvex = cv2.isContourConvex(hull)                # 是否凸形\n",
    "print(f\"凸包是凸形       = {isConvex}\")\n",
    "# 近似多邊形包圍\n",
    "src2 = src.copy()                                   # 複製src影像\n",
    "approx = cv2.approxPolyDP(contours[0], 10, True)    # epsilon=10\n",
    "dst2 = cv2.polylines(src2,[approx],True,(0,255,0),2)  # 近似多邊形連線\n",
    "cv2.imshow(\"dst2 - epsilon = 10\",dst2)\n",
    "isConvex = cv2.isContourConvex(approx)              # 是否凸形\n",
    "print(f\"近似多邊形是凸形 = {isConvex}\")\n",
    "\n",
    "cv2.waitKey(0)\n",
    "cv2.destroyAllWindows()"
   ]
  },
  {
   "cell_type": "code",
   "execution_count": 28,
   "id": "4c84f46c",
   "metadata": {},
   "outputs": [
    {
     "name": "stdout",
     "output_type": "stream",
     "text": [
      "dist_a = -0.0\n",
      "dist_b = 35.65165808180456\n",
      "dist_c = -16.829141392239833\n"
     ]
    }
   ],
   "source": [
    "# ch16_16.py\n",
    "import cv2\n",
    "src = cv2.imread(path+\"heart1.jpg\")\n",
    "cv2.imshow(\"src\",src)\n",
    "src_gray = cv2.cvtColor(src,cv2.COLOR_BGR2GRAY)     # 影像轉成灰階\n",
    "# 二值化處理影像\n",
    "ret, dst_binary = cv2.threshold(src_gray,127,255,cv2.THRESH_BINARY)\n",
    "# 找尋影像內的輪廓\n",
    "contours, hierarchy = cv2.findContours(dst_binary,\n",
    "                      cv2.RETR_LIST,\n",
    "                      cv2.CHAIN_APPROX_SIMPLE)\n",
    "# 凸包\n",
    "hull = cv2.convexHull(contours[0])                  # 獲得凸包頂點座標       \n",
    "dst = cv2.polylines(src, [hull], True, (0,255,0),2) # 將凸包連線\n",
    "# print(hull)   可以用這個指令了解凸包座標點\n",
    "# 點在凸包線上\n",
    "pointa = (231,85)                                   # 點在凸包線上\n",
    "dist_a = cv2.pointPolygonTest(hull,pointa, True)    # 檢測距離 \n",
    "font = cv2.FONT_HERSHEY_SIMPLEX\n",
    "pos_a = (236,95)                                    # 文字輸出位置\n",
    "dst = cv2.circle(src,pointa,3,[0,0,255],-1)         # 用圓標記點 A\n",
    "cv2.putText(dst,'A',pos_a,font,1,(0,255,255),2)     # 輸出文字 A\n",
    "print(f\"dist_a = {dist_a}\") \n",
    "# 點在凸包內\n",
    "pointb = (150,100)                                  # 點在凸包線上\n",
    "dist_b = cv2.pointPolygonTest(hull,pointb, True)    # 檢測距離 \n",
    "font = cv2.FONT_HERSHEY_SIMPLEX\n",
    "pos_b = (160,110)                                   # 文字輸出位置\n",
    "dst = cv2.circle(src,pointb,3,[0,0,255],-1)         # 用圓標記點 B\n",
    "cv2.putText(dst,'B',pos_b,font,1,(255,0,0),2)       # 輸出文字 B\n",
    "print(f\"dist_b = {dist_b}\") \n",
    "# 點在凸包外\n",
    "pointc = (80,85)                                    # 點在凸包線上\n",
    "dist_c = cv2.pointPolygonTest(hull,pointc, True)    # 檢測距離 \n",
    "font = cv2.FONT_HERSHEY_SIMPLEX\n",
    "pos_c = (50,95)                                     # 文字輸出位置\n",
    "dst = cv2.circle(src,pointc,3,[0,0,255],-1)         # 用圓標記點 C\n",
    "cv2.putText(dst,'C',pos_c,font,1,(0,255,255),2)     # 輸出文字 C\n",
    "print(f\"dist_c = {dist_c}\") \n",
    "cv2.imshow(\"dst\",dst)\n",
    "cv2.waitKey(0)\n",
    "cv2.destroyAllWindows()"
   ]
  },
  {
   "cell_type": "code",
   "execution_count": 49,
   "id": "1eb0c197",
   "metadata": {},
   "outputs": [
    {
     "name": "stdout",
     "output_type": "stream",
     "text": [
      "dist_a = -1.0\n",
      "dist_b = -1.0\n",
      "dist_c = -1.0\n"
     ]
    }
   ],
   "source": [
    "# ch16_17.py\n",
    "import cv2\n",
    "src = cv2.imread(path+\"01.jpg\")\n",
    "cv2.imshow(\"src\",src)\n",
    "src_gray = cv2.cvtColor(src,cv2.COLOR_BGR2GRAY)     # 影像轉成灰階\n",
    "# 二值化處理影像\n",
    "ret, dst_binary = cv2.threshold(src_gray,127,255,cv2.THRESH_BINARY)\n",
    "# 找尋影像內的輪廓\n",
    "contours, hierarchy = cv2.findContours(dst_binary,\n",
    "                      cv2.RETR_LIST,\n",
    "                      cv2.CHAIN_APPROX_SIMPLE)\n",
    "# 凸包\n",
    "hull = cv2.convexHull(contours[0])                  # 獲得凸包頂點座標       \n",
    "dst = cv2.polylines(src, [hull], True, (0,255,0),2) # 將凸包連線\n",
    "# print(hull)   可以用這個指令了解凸包座標點\n",
    "# 點在凸包線上\n",
    "pointa = (231,85)                                   # 點在凸包線上\n",
    "dist_a = cv2.pointPolygonTest(hull,pointa, False)   # 檢測距離 \n",
    "font = cv2.FONT_HERSHEY_SIMPLEX\n",
    "pos_a = (236,95)                                    # 文字輸出位置\n",
    "dst = cv2.circle(src,pointa,3,[0,0,255],-1)         # 用圓標記點 A\n",
    "cv2.putText(dst,'A',pos_a,font,1,(0,255,255),2)     # 輸出文字 A\n",
    "print(f\"dist_a = {dist_a}\") \n",
    "# 點在凸包內\n",
    "pointb = (150,100)                                  # 點在凸包線上\n",
    "dist_b = cv2.pointPolygonTest(hull,pointb, False)   # 檢測距離 \n",
    "font = cv2.FONT_HERSHEY_SIMPLEX\n",
    "pos_b = (160,110)                                   # 文字輸出位置\n",
    "dst = cv2.circle(src,pointb,3,[0,0,255],-1)         # 用圓標記點 B\n",
    "cv2.putText(dst,'B',pos_b,font,1,(255,0,0),2)       # 輸出文字 B\n",
    "print(f\"dist_b = {dist_b}\") \n",
    "# 點在凸包外\n",
    "pointc = (80,85)                                    # 點在凸包線上\n",
    "dist_c = cv2.pointPolygonTest(hull,pointc, False)   # 檢測距離 \n",
    "font = cv2.FONT_HERSHEY_SIMPLEX\n",
    "pos_c = (50,95)                                     # 文字輸出位置\n",
    "dst = cv2.circle(src,pointc,3,[0,0,255],-1)         # 用圓標記點 C\n",
    "cv2.putText(dst,'C',pos_c,font,1,(0,255,255),2)     # 輸出文字 C\n",
    "print(f\"dist_c = {dist_c}\") \n",
    "cv2.imshow(\"dst\",dst)\n",
    "cv2.waitKey(0)\n",
    "cv2.destroyAllWindows()"
   ]
  },
  {
   "cell_type": "code",
   "execution_count": 55,
   "id": "fb7e4309",
   "metadata": {},
   "outputs": [
    {
     "data": {
      "image/png": "[encoded data removed]",
      "text/plain": [
       "<Figure size 640x480 with 1 Axes>"
      ]
     },
     "metadata": {},
     "output_type": "display_data"
    }
   ],
   "source": [
    "# ch19_1.py\n",
    "import matplotlib.pyplot as plt\n",
    "\n",
    "seq = [1, 2, 3, 4, 5]           # 像素值\n",
    "times = [2, 1, 2, 1, 3]         # 出現次數\n",
    "plt.plot(seq, times, \"-o\")      # 繪含標記的圖\n",
    "plt.axis([0, 6, 0, 4])          # 建立軸大小\n",
    "plt.xlabel(\"Pixel Value\")       # 像素值\n",
    "plt.ylabel(\"Times\")             # 出現次數\n",
    "plt.show()"
   ]
  },
  {
   "cell_type": "code",
   "execution_count": 56,
   "id": "29315e60",
   "metadata": {},
   "outputs": [
    {
     "data": {
      "image/png": "[encoded data removed]",
      "text/plain": [
       "<Figure size 640x480 with 1 Axes>"
      ]
     },
     "metadata": {},
     "output_type": "display_data"
    }
   ],
   "source": [
    "# ch19_2.py\n",
    "import matplotlib.pyplot as plt\n",
    "import numpy as np\n",
    "\n",
    "times = [2, 1, 2, 1, 3]         # 出現次數\n",
    "N = len(times)                  # 計算長度\n",
    "x = np.arange(N)                # 長條圖x軸座標\n",
    "width = 0.35                    # 長條圖寬度\n",
    "plt.bar(x, times, width)        # 繪製長條圖\n",
    "\n",
    "plt.xlabel(\"Pixel Value\")       # 像素值\n",
    "plt.ylabel(\"Times\")             # 出現次數\n",
    "plt.xticks(x, ('1', '2', '3', '4', '5'))\n",
    "plt.show()"
   ]
  },
  {
   "cell_type": "code",
   "execution_count": 57,
   "id": "035a3430",
   "metadata": {},
   "outputs": [
    {
     "data": {
      "image/png": "[encoded data removed]",
      "text/plain": [
       "<Figure size 640x480 with 1 Axes>"
      ]
     },
     "metadata": {},
     "output_type": "display_data"
    }
   ],
   "source": [
    "# ch19_3.py\n",
    "import matplotlib.pyplot as plt\n",
    "\n",
    "seq = [1, 2, 3, 4, 5]               # 像素值\n",
    "freq = [2/9, 1/9, 2/9, 1/9, 3/9]    # 出現頻率\n",
    "plt.plot(seq, freq, \"-o\")           # 繪含標記的圖\n",
    "plt.axis([0, 6, 0, 0.5])            # 建立軸大小\n",
    "plt.xlabel(\"Pixel Value\")           # 像素值\n",
    "plt.ylabel(\"Frequency\")             # 出現頻率\n",
    "plt.show()"
   ]
  },
  {
   "cell_type": "code",
   "execution_count": 58,
   "id": "4abfc677",
   "metadata": {},
   "outputs": [
    {
     "data": {
      "image/png": "[encoded data removed]",
      "text/plain": [
       "<Figure size 640x480 with 1 Axes>"
      ]
     },
     "metadata": {},
     "output_type": "display_data"
    }
   ],
   "source": [
    "# ch19_4.py\n",
    "import matplotlib.pyplot as plt\n",
    "import numpy as np\n",
    "\n",
    "freq = [2/9, 1/9, 2/9, 1/9, 3/9]    # 出現頻率\n",
    "N = len(freq)                       # 計算長度\n",
    "x = np.arange(N)                    # 長條圖x軸座標\n",
    "width = 0.35                        # 長條圖寬度\n",
    "plt.bar(x, freq, width)             # 繪製長條圖\n",
    "\n",
    "plt.xlabel(\"Pixel Value\")           # 像素值\n",
    "plt.ylabel(\"Freqency\")              # 出現頻率\n",
    "plt.xticks(x, ('1', '2', '3', '4', '5'))\n",
    "plt.show()"
   ]
  },
  {
   "cell_type": "code",
   "execution_count": 2,
   "id": "7507de18",
   "metadata": {},
   "outputs": [
    {
     "data": {
      "image/png": "[encoded data removed]",
      "text/plain": [
       "<Figure size 640x480 with 1 Axes>"
      ]
     },
     "metadata": {},
     "output_type": "display_data"
    }
   ],
   "source": [
    "# ch19_5.py\n",
    "import cv2\n",
    "import matplotlib.pyplot as plt\n",
    "path1 = \"C:\\\\Users\\\\STUST\\\\Desktop\\\\ch19\\\\\"\n",
    "src = cv2.imread(path1+\"snow.jpg\",cv2.IMREAD_GRAYSCALE)\n",
    "cv2.imshow(\"Src\", src)\n",
    "plt.hist(src.ravel(),256)       # 降維再繪製直方圖\n",
    "plt.show()\n",
    "\n",
    "cv2.waitKey(0)\n",
    "cv2.destroyAllWindows()"
   ]
  },
  {
   "cell_type": "code",
   "execution_count": 64,
   "id": "a2063473",
   "metadata": {},
   "outputs": [
    {
     "data": {
      "image/png": "[encoded data removed]",
      "text/plain": [
       "<Figure size 640x480 with 1 Axes>"
      ]
     },
     "metadata": {},
     "output_type": "display_data"
    }
   ],
   "source": [
    "# ch19_6.py\n",
    "import cv2\n",
    "import matplotlib.pyplot as plt\n",
    "\n",
    "src = cv2.imread(path1+\"snow.jpg\",cv2.IMREAD_GRAYSCALE)\n",
    "cv2.imshow(\"Src\", src)\n",
    "plt.hist(src.ravel(),20)       # 降維再繪製直方圖\n",
    "plt.show()\n",
    "\n",
    "cv2.waitKey(0)\n",
    "cv2.destroyAllWindows()\n",
    "\n"
   ]
  },
  {
   "cell_type": "code",
   "execution_count": 3,
   "id": "ffec23f7",
   "metadata": {
    "scrolled": true
   },
   "outputs": [
    {
     "name": "stdout",
     "output_type": "stream",
     "text": [
      "資料類型 = <class 'numpy.ndarray'>\n",
      "資料外觀 = (256, 1)\n",
      "資料大小 = 256\n",
      "資料內容 \n",
      "[[   5.]\n",
      " [   5.]\n",
      " [   3.]\n",
      " [   7.]\n",
      " [  11.]\n",
      " [   9.]\n",
      " [   9.]\n",
      " [  17.]\n",
      " [  18.]\n",
      " [  25.]\n",
      " [  21.]\n",
      " [  25.]\n",
      " [  27.]\n",
      " [  31.]\n",
      " [  28.]\n",
      " [  52.]\n",
      " [  42.]\n",
      " [  43.]\n",
      " [  53.]\n",
      " [  53.]\n",
      " [  73.]\n",
      " [  48.]\n",
      " [  62.]\n",
      " [  68.]\n",
      " [  60.]\n",
      " [  59.]\n",
      " [  96.]\n",
      " [  88.]\n",
      " [  87.]\n",
      " [  85.]\n",
      " [ 107.]\n",
      " [  95.]\n",
      " [ 114.]\n",
      " [ 110.]\n",
      " [ 147.]\n",
      " [ 140.]\n",
      " [ 134.]\n",
      " [ 153.]\n",
      " [ 139.]\n",
      " [ 164.]\n",
      " [ 181.]\n",
      " [ 164.]\n",
      " [ 171.]\n",
      " [ 180.]\n",
      " [ 202.]\n",
      " [ 193.]\n",
      " [ 194.]\n",
      " [ 186.]\n",
      " [ 215.]\n",
      " [ 237.]\n",
      " [ 283.]\n",
      " [ 290.]\n",
      " [ 253.]\n",
      " [ 303.]\n",
      " [ 284.]\n",
      " [ 314.]\n",
      " [ 340.]\n",
      " [ 376.]\n",
      " [ 377.]\n",
      " [ 382.]\n",
      " [ 379.]\n",
      " [ 359.]\n",
      " [ 406.]\n",
      " [ 356.]\n",
      " [ 393.]\n",
      " [ 420.]\n",
      " [ 387.]\n",
      " [ 398.]\n",
      " [ 419.]\n",
      " [ 372.]\n",
      " [ 399.]\n",
      " [ 391.]\n",
      " [ 369.]\n",
      " [ 397.]\n",
      " [ 400.]\n",
      " [ 393.]\n",
      " [ 390.]\n",
      " [ 406.]\n",
      " [ 360.]\n",
      " [ 404.]\n",
      " [ 394.]\n",
      " [ 409.]\n",
      " [ 430.]\n",
      " [ 434.]\n",
      " [ 438.]\n",
      " [ 418.]\n",
      " [ 412.]\n",
      " [ 463.]\n",
      " [ 415.]\n",
      " [ 390.]\n",
      " [ 441.]\n",
      " [ 452.]\n",
      " [ 451.]\n",
      " [ 426.]\n",
      " [ 440.]\n",
      " [ 472.]\n",
      " [ 507.]\n",
      " [ 470.]\n",
      " [ 461.]\n",
      " [ 484.]\n",
      " [ 502.]\n",
      " [ 483.]\n",
      " [ 494.]\n",
      " [ 501.]\n",
      " [ 513.]\n",
      " [ 491.]\n",
      " [ 491.]\n",
      " [ 503.]\n",
      " [ 534.]\n",
      " [ 536.]\n",
      " [ 506.]\n",
      " [ 516.]\n",
      " [ 569.]\n",
      " [ 576.]\n",
      " [ 560.]\n",
      " [ 551.]\n",
      " [ 583.]\n",
      " [ 579.]\n",
      " [ 559.]\n",
      " [ 618.]\n",
      " [ 650.]\n",
      " [ 803.]\n",
      " [ 807.]\n",
      " [ 923.]\n",
      " [ 947.]\n",
      " [ 998.]\n",
      " [1113.]\n",
      " [1256.]\n",
      " [1353.]\n",
      " [1509.]\n",
      " [1712.]\n",
      " [1522.]\n",
      " [1498.]\n",
      " [1588.]\n",
      " [1635.]\n",
      " [1511.]\n",
      " [1387.]\n",
      " [1207.]\n",
      " [ 972.]\n",
      " [ 935.]\n",
      " [ 986.]\n",
      " [ 925.]\n",
      " [ 896.]\n",
      " [ 885.]\n",
      " [ 854.]\n",
      " [ 843.]\n",
      " [ 768.]\n",
      " [ 777.]\n",
      " [ 806.]\n",
      " [ 790.]\n",
      " [ 819.]\n",
      " [ 759.]\n",
      " [ 829.]\n",
      " [ 833.]\n",
      " [ 804.]\n",
      " [ 844.]\n",
      " [ 850.]\n",
      " [ 942.]\n",
      " [ 843.]\n",
      " [ 820.]\n",
      " [ 767.]\n",
      " [ 801.]\n",
      " [ 709.]\n",
      " [ 694.]\n",
      " [ 679.]\n",
      " [ 680.]\n",
      " [ 663.]\n",
      " [ 650.]\n",
      " [ 608.]\n",
      " [ 703.]\n",
      " [ 641.]\n",
      " [ 674.]\n",
      " [ 740.]\n",
      " [ 744.]\n",
      " [ 819.]\n",
      " [ 867.]\n",
      " [ 785.]\n",
      " [ 931.]\n",
      " [ 926.]\n",
      " [ 978.]\n",
      " [1086.]\n",
      " [1199.]\n",
      " [1260.]\n",
      " [1329.]\n",
      " [1529.]\n",
      " [1976.]\n",
      " [2245.]\n",
      " [2393.]\n",
      " [1886.]\n",
      " [1838.]\n",
      " [1792.]\n",
      " [1182.]\n",
      " [ 852.]\n",
      " [ 886.]\n",
      " [ 834.]\n",
      " [ 862.]\n",
      " [ 781.]\n",
      " [ 741.]\n",
      " [ 656.]\n",
      " [ 642.]\n",
      " [ 636.]\n",
      " [ 648.]\n",
      " [ 611.]\n",
      " [ 609.]\n",
      " [ 578.]\n",
      " [ 471.]\n",
      " [ 417.]\n",
      " [ 425.]\n",
      " [ 371.]\n",
      " [ 400.]\n",
      " [ 385.]\n",
      " [ 392.]\n",
      " [ 385.]\n",
      " [ 428.]\n",
      " [ 458.]\n",
      " [ 465.]\n",
      " [ 457.]\n",
      " [ 470.]\n",
      " [ 435.]\n",
      " [ 422.]\n",
      " [ 404.]\n",
      " [ 368.]\n",
      " [ 391.]\n",
      " [ 377.]\n",
      " [ 347.]\n",
      " [ 381.]\n",
      " [ 347.]\n",
      " [ 336.]\n",
      " [ 333.]\n",
      " [ 341.]\n",
      " [ 403.]\n",
      " [ 307.]\n",
      " [ 328.]\n",
      " [ 305.]\n",
      " [ 263.]\n",
      " [ 314.]\n",
      " [ 298.]\n",
      " [ 223.]\n",
      " [ 224.]\n",
      " [ 212.]\n",
      " [ 210.]\n",
      " [ 194.]\n",
      " [ 160.]\n",
      " [ 159.]\n",
      " [ 150.]\n",
      " [ 169.]\n",
      " [ 131.]\n",
      " [ 112.]\n",
      " [ 131.]\n",
      " [ 101.]\n",
      " [  80.]\n",
      " [  87.]\n",
      " [  55.]\n",
      " [  55.]\n",
      " [  51.]\n",
      " [  97.]]\n"
     ]
    }
   ],
   "source": [
    "# ch19_7.py\n",
    "import cv2\n",
    "\n",
    "src = cv2.imread(path1+\"snow.jpg\",cv2.IMREAD_GRAYSCALE)\n",
    "cv2.imshow(\"Src\", src)\n",
    "hist = cv2.calcHist([src],[0],None,[256],[0,256])   # 直方圖統計資料\n",
    "print(f\"資料類型 = {type(hist)}\")\n",
    "print(f\"資料外觀 = {hist.shape}\")\n",
    "print(f\"資料大小 = {hist.size}\")\n",
    "print(f\"資料內容 \\n{hist}\")\n",
    "\n",
    "cv2.waitKey(0)\n",
    "cv2.destroyAllWindows()"
   ]
  },
  {
   "cell_type": "code",
   "execution_count": 4,
   "id": "93d3adde",
   "metadata": {},
   "outputs": [
    {
     "data": {
      "image/png": "[encoded data removed]",
      "text/plain": [
       "<Figure size 640x480 with 1 Axes>"
      ]
     },
     "metadata": {},
     "output_type": "display_data"
    }
   ],
   "source": [
    "# ch19_8.py\n",
    "import cv2\n",
    "import matplotlib.pyplot as plt\n",
    "\n",
    "src = cv2.imread(path1+\"snow.jpg\",cv2.IMREAD_GRAYSCALE)\n",
    "cv2.imshow(\"Src\", src)\n",
    "hist = cv2.calcHist([src],[0],None,[256],[0,258])   # 直方圖統計資料\n",
    "plt.plot(hist)                                      # 用plot()繪直方圖\n",
    "plt.show()\n",
    "\n",
    "cv2.waitKey(0)\n",
    "cv2.destroyAllWindows()"
   ]
  },
  {
   "cell_type": "code",
   "execution_count": 6,
   "id": "4e3a1c8d",
   "metadata": {},
   "outputs": [
    {
     "data": {
      "image/png": "[encoded data removed]",
      "text/plain": [
       "<Figure size 640x480 with 1 Axes>"
      ]
     },
     "metadata": {},
     "output_type": "display_data"
    }
   ],
   "source": [
    "# ch19_9.py\n",
    "import cv2\n",
    "import matplotlib.pyplot as plt\n",
    "\n",
    "src = cv2.imread(path1+\"macau.jpg\",cv2.IMREAD_COLOR)\n",
    "cv2.imshow(\"Src\", src)\n",
    "b = cv2.calcHist([src],[0],None,[256],[0,256])  # B 通道統計資料\n",
    "g = cv2.calcHist([src],[1],None,[256],[0,256])  # G 通道統計資料\n",
    "r = cv2.calcHist([src],[2],None,[256],[0,256])  # R 通道統計資料\n",
    "plt.plot(b, color=\"blue\", label=\"B channel\")    # 用plot()繪 B 通道\n",
    "plt.plot(g, color=\"green\", label=\"G channel\")   # 用plot()繪 G 通道\n",
    "plt.plot(r, color=\"red\", label=\"R channel\")     # 用plot()繪 R 通道\n",
    "plt.legend(loc=\"best\")\n",
    "plt.show()\n",
    "\n",
    "cv2.waitKey(0)\n",
    "cv2.destroyAllWindows()"
   ]
  },
  {
   "cell_type": "code",
   "execution_count": null,
   "id": "a63c88e1",
   "metadata": {},
   "outputs": [],
   "source": []
  }
 ],
 "metadata": {
  "kernelspec": {
   "display_name": "Python 3 (ipykernel)",
   "language": "python",
   "name": "python3"
  },
  "language_info": {
   "codemirror_mode": {
    "name": "ipython",
    "version": 3
   },
   "file_extension": ".py",
   "mimetype": "text/x-python",
   "name": "python",
   "nbconvert_exporter": "python",
   "pygments_lexer": "ipython3",
   "version": "3.11.5"
  }
 },
 "nbformat": 4,
 "nbformat_minor": 5
}
