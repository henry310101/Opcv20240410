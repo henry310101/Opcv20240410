{
 "cells": [
  {
   "cell_type": "code",
   "execution_count": 66,
   "id": "6af0fc20",
   "metadata": {},
   "outputs": [],
   "source": [
    "import cv2\n",
    "import numpy as np\n",
    "\n",
    "height = 160\n",
    "width = 280 \n",
    "red=2\n",
    "blue=0\n",
    "green=1\n",
    "\n",
    "ran=0;\n",
    "image = np.zeros((height,245,3),np.uint8)\n",
    "for y in range (0, width, 20):\n",
    "    image[:, y:y+10,red] = ran\n",
    "    ran+=15\n",
    "    \n",
    "\n",
    "cv2.imshow(\"image\", image)\n",
    "    \n",
    "cv2.waitKey(0)\n",
    "cv2.destroyAllWindows()"
   ]
  },
  {
   "cell_type": "code",
   "execution_count": 60,
   "id": "113c45e9",
   "metadata": {},
   "outputs": [],
   "source": [
    "height = 500\n",
    "width = 500\n",
    "image = np.random.randint(256,size=[height,width,3],dtype=np.uint8)\n",
    "cv2.imshow(\"image\", image)\n",
    "\n",
    "cv2.waitKey(0)\n",
    "cv2.destroyAllWindows()"
   ]
  },
  {
   "cell_type": "code",
   "execution_count": 61,
   "id": "641c6095",
   "metadata": {},
   "outputs": [],
   "source": [
    "img = cv2.imread(\"C:\\\\Users\\\\STUST\\\\Desktop\\\\456.jpg\")\n",
    "cv2.imshow(\"456.jpg\",img)\n",
    "img_rgb = cv2.cvtColor(img, cv2.COLOR_BGR2RGB)\n",
    "cv2.imshow(\"RGB Color Space\", img_rgb)\n",
    "cv2.waitKey(0)\n",
    "cv2.destroyAllWindows()"
   ]
  },
  {
   "cell_type": "code",
   "execution_count": null,
   "id": "52bf183c",
   "metadata": {},
   "outputs": [],
   "source": []
  }
 ],
 "metadata": {
  "kernelspec": {
   "display_name": "Python 3 (ipykernel)",
   "language": "python",
   "name": "python3"
  },
  "language_info": {
   "codemirror_mode": {
    "name": "ipython",
    "version": 3
   },
   "file_extension": ".py",
   "mimetype": "text/x-python",
   "name": "python",
   "nbconvert_exporter": "python",
   "pygments_lexer": "ipython3",
   "version": "3.11.5"
  }
 },
 "nbformat": 4,
 "nbformat_minor": 5
}
